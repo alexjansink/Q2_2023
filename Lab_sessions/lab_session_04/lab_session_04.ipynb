{
 "cells": [
  {
   "cell_type": "markdown",
   "id": "48b5223bd9a692a5",
   "metadata": {
    "collapsed": false,
    "editable": true,
    "jupyter": {
     "outputs_hidden": false
    },
    "slideshow": {
     "slide_type": ""
    },
    "tags": []
   },
   "source": [
    "# TPM034A Machine Learning for socio-technical systems \n",
    "## `Lab session 04:  Explainable AI and energy prediction`\n",
    "\n",
    "**Delft University of Technology**<br>\n",
    "**Q2 2023**<br>\n",
    "**Instructor:** Giacomo Marangoni <br>\n",
    "**TAs:**  Francisco Garrido Valenzuela & Lucas Spierenburg <br>\n",
    "\n",
    "### `Instructions`\n",
    "\n",
    "**Lab sessions aim to:**<br>\n",
    "* Show and reinforce how models and ideas presented in class are used in practice.<br>\n",
    "* Help you gather hands-on machine learning skills.<br>\n",
    "\n",
    "**Lab sessions are:**<br>\n",
    "* Learning environments where you work with Jupyter notebooks and where you can get support from TAs and fellow students.<br> \n",
    "* Not graded and do not have to be submitted. \n",
    "### `Use of AI tools`\n",
    "AI tools, such as ChatGPT and Co-pilot, are great tools to assist with programming. Moreover, in your later careers you will work in a world where such tools are widely available. As such, we **encourage** you to use AI tools **effectively** (both in the lab sessions and assignments). However, be careful not to overestimate the capacity of AI tools! AI tools cannot replace you: you still have to conceptualise the problem, dissect it and structure it, to conduct proper analysis and modelling. We recommend being especially **reticent** with using AI tools for the more conceptual and reflective oriented questions. \n",
    "### `Workspace set-up`\n",
    "\n",
    "**Option 1: Local environment**<br>\n",
    "Uncomment the following cell if you are running this notebook on your local environment. This will install all dependencies on your Python version."
   ]
  },
  {
   "cell_type": "code",
   "execution_count": null,
   "id": "d8ab1b8d73b4427c",
   "metadata": {
    "jupyter": {
     "outputs_hidden": false
    }
   },
   "outputs": [],
   "source": [
    "#!pip install -r requirements_lab04.txt"
   ]
  },
  {
   "cell_type": "markdown",
   "id": "3e6af4dafe14ed3e",
   "metadata": {
    "collapsed": false,
    "jupyter": {
     "outputs_hidden": false
    }
   },
   "source": [
    "**Option 2: Google Colab**<br>\n",
    "Uncomment the following cells code lines if you are running this notebook on Colab"
   ]
  },
  {
   "cell_type": "code",
   "execution_count": null,
   "id": "1ff8c486eeaca7d",
   "metadata": {
    "editable": true,
    "jupyter": {
     "outputs_hidden": false
    },
    "slideshow": {
     "slide_type": ""
    },
    "tags": []
   },
   "outputs": [],
   "source": [
    "#!git clone https://github.com/TPM034A/Q2_2023\n",
    "#!pip install -r Q2_2023/requirements_lab04.txt\n",
    "#!mv \"/content/Q2_2023/Lab_sessions/lab_session_04/data\" /content/data"
   ]
  },
  {
   "cell_type": "markdown",
   "id": "c9a5be8a61e3d469",
   "metadata": {
    "collapsed": false,
    "editable": true,
    "jupyter": {
     "outputs_hidden": false
    },
    "slideshow": {
     "slide_type": ""
    },
    "tags": []
   },
   "source": [
    "### `Application: Explaining the prediction of the next 24-hour electricity load` <br>\n",
    "\n",
    "#### **Introduction**\n",
    "In this lab session we will train a Linear regression (LR) and a Random forest regressor (RF) to predict the **next 24-hour electricity load** of a household. We will then use the tools of Explainable AI, and in particular SHAP, to better understand how specific prediction are influenced by different features.\n",
    "\n",
    "#### **Data**\n",
    "\n",
    "1. `data/load.pkl`: A pickle file with a pandas.DataFrame of overall Wh hourly energy consumption of a household from the REFIT Electrical Load Measurements dataset, collected over a period of about two years.\n",
    "2. `data/devices.pkl`: A pickle file with a pandas.DataFrame of normalized weather variables: `dwpt` is Dew Point (related to moisture), `rhum` is relative humidity, `temp` is temperature, `wdir` is wind direction, `wspd` is wind speed.\n"
   ]
  },
  {
   "cell_type": "markdown",
   "id": "f12d5dac-4b7c-48e4-9fcc-dff6613ef120",
   "metadata": {
    "editable": true,
    "slideshow": {
     "slide_type": ""
    },
    "tags": []
   },
   "source": [
    "### Load and preprocess the datasets"
   ]
  },
  {
   "cell_type": "code",
   "execution_count": null,
   "id": "f98c483f-3eb5-4cd3-8cb4-20fa46efa297",
   "metadata": {
    "editable": true,
    "slideshow": {
     "slide_type": ""
    },
    "tags": []
   },
   "outputs": [],
   "source": [
    "# Use pd.read_pickle to load 'data/load.pkl'\n",
    "\n",
    "# Check that you get a similar pd.Series:\n",
    "# Time\n",
    "# 2013-09-25 19:00:00    410.766578\n",
    "# 2013-09-25 20:00:00    417.421053\n",
    "# 2013-09-25 21:00:00    508.165821\n",
    "# ..."
   ]
  },
  {
   "cell_type": "code",
   "execution_count": null,
   "id": "17bf016f-52aa-4024-98fd-0cf348a64c85",
   "metadata": {
    "editable": true,
    "slideshow": {
     "slide_type": ""
    },
    "tags": []
   },
   "outputs": [],
   "source": [
    "# How many observations does the dataset have? What is the overall time range?"
   ]
  },
  {
   "cell_type": "code",
   "execution_count": null,
   "id": "68ff7403-e5d3-4156-9752-e619100ac9cd",
   "metadata": {
    "editable": true,
    "slideshow": {
     "slide_type": ""
    },
    "tags": []
   },
   "outputs": [],
   "source": [
    "# Use pd.read_pickle to load 'data/weather.pkl'\n",
    "\n",
    "# Check that you have a pd.DataFrame with columns\n",
    "# ['temp', 'dwpt', 'rhum', 'wdir', 'wspd']\n",
    "# and index equal to the load index"
   ]
  },
  {
   "cell_type": "code",
   "execution_count": null,
   "id": "680d946c-e183-47f1-96c9-b08078fe592d",
   "metadata": {
    "editable": true,
    "slideshow": {
     "slide_type": ""
    },
    "tags": []
   },
   "outputs": [],
   "source": [
    "# Add an \"hour\" column to the load df, corresponding to the integer hour of the index\n",
    "# e.g. 2013-09-25 19:00:00 --> 19\n",
    "# Hint: convert index into a pd.Series and use the .hour accessor"
   ]
  },
  {
   "cell_type": "code",
   "execution_count": null,
   "id": "778193a6-2aaa-4fbf-8ec3-0c7c02f48895",
   "metadata": {
    "editable": true,
    "slideshow": {
     "slide_type": ""
    },
    "tags": []
   },
   "outputs": [],
   "source": [
    "# Add 3 columns to the load df\n",
    "# load_lag_24, load_lag_48 and load_lag_72\n",
    "# corresponding to the value of load 24, 48 and 72 hourse before, respectively\n",
    "# Hint: use the .shift function\n",
    "\n",
    "# check as example the first five 21:00 samples to make sure you computed the lags correctly"
   ]
  },
  {
   "cell_type": "code",
   "execution_count": null,
   "id": "e1e5b297-ab35-49f9-a7ad-3463d8f6d100",
   "metadata": {
    "editable": true,
    "slideshow": {
     "slide_type": ""
    },
    "tags": []
   },
   "outputs": [],
   "source": [
    "# Add 7 dummy columns, each one with value 0 or 1 for each day of the week of the corresponding index,\n",
    "# named \"day_name_monday\", \"day_name_tuesday\", ... , \"day_name_saturday\" (skipping Sunday)\n",
    "# Hint: use index.dayofweek and pd.get_dummies\n",
    "\n",
    "# check as example the first seven 21:00 samples to make sure you computed the day_name columns correctly"
   ]
  },
  {
   "cell_type": "code",
   "execution_count": null,
   "id": "ad89a3dc-5ca9-4f2e-a2e5-0faee27e9ee6",
   "metadata": {
    "editable": true,
    "slideshow": {
     "slide_type": ""
    },
    "tags": []
   },
   "outputs": [],
   "source": [
    "# Merge the weather and the load df\n",
    "# Hint: use df.join"
   ]
  },
  {
   "cell_type": "code",
   "execution_count": null,
   "id": "3f35ef8f-d823-465e-9c1c-c927e45b2c77",
   "metadata": {
    "editable": true,
    "slideshow": {
     "slide_type": ""
    },
    "tags": []
   },
   "outputs": [],
   "source": [
    "# Plot the load of a single day, e.g. 2013-12-12\n",
    "# Does the shape make sense?"
   ]
  },
  {
   "cell_type": "code",
   "execution_count": null,
   "id": "995ca6b7-16b8-4bb4-975f-e7d9b8bbb87d",
   "metadata": {
    "editable": true,
    "slideshow": {
     "slide_type": ""
    },
    "tags": []
   },
   "outputs": [],
   "source": [
    "# Plot the average and confidence interval of hourly load for weekdays vs weekends from '2013-11-01' onwards\n",
    "# Hint: use seaborn.lineplot\n",
    "# Do you observe any difference?"
   ]
  },
  {
   "cell_type": "code",
   "execution_count": null,
   "id": "43c77bbc-974c-4d49-8074-3e7724a63cc9",
   "metadata": {
    "editable": true,
    "slideshow": {
     "slide_type": ""
    },
    "tags": []
   },
   "outputs": [],
   "source": [
    "# Add dummies \"hour_1\", \"hour_2\", ... \"hour_23\" (skipping \"hour_0\"), equal to 1 for the corresponding index hour\n",
    "# Hint: use pd.get_dummies"
   ]
  },
  {
   "cell_type": "markdown",
   "id": "a58960fd-d371-45cd-8d5b-3b143d34aeb5",
   "metadata": {
    "editable": true,
    "slideshow": {
     "slide_type": ""
    },
    "tags": []
   },
   "source": [
    "### Train a linear regression model"
   ]
  },
  {
   "cell_type": "code",
   "execution_count": null,
   "id": "75816400-9e1c-4db9-9017-cb6062c66889",
   "metadata": {
    "editable": true,
    "slideshow": {
     "slide_type": ""
    },
    "tags": []
   },
   "outputs": [],
   "source": [
    "# Train a linear regression model to predict load of 2014-12-12 based on features computed above.\n",
    "# Use the period 2013-11-01 to 2014-12-11 for training."
   ]
  },
  {
   "cell_type": "code",
   "execution_count": null,
   "id": "bb94a9d5-ba77-47f5-828e-0d6473aa59ef",
   "metadata": {
    "editable": true,
    "slideshow": {
     "slide_type": ""
    },
    "tags": []
   },
   "outputs": [],
   "source": [
    "# Compute the root mean squared error"
   ]
  },
  {
   "cell_type": "markdown",
   "id": "27d1351a-682b-4e3e-9e7b-80944e895e32",
   "metadata": {
    "editable": true,
    "slideshow": {
     "slide_type": ""
    },
    "tags": []
   },
   "source": [
    "### Explain a LR model with SHAP"
   ]
  },
  {
   "cell_type": "code",
   "execution_count": null,
   "id": "d58e8f71-a4d2-4843-aefe-bd5a05975f47",
   "metadata": {
    "editable": true,
    "slideshow": {
     "slide_type": ""
    },
    "tags": []
   },
   "outputs": [],
   "source": [
    "# Plot the SHAP values for the test set (load values for the hours of the day 2014-12-12)\n",
    "# Hint: use shap.Explainer and shap.plots.beeswarm"
   ]
  },
  {
   "cell_type": "markdown",
   "id": "2dbdbd2c-33cf-48a8-95c2-5c29214942a7",
   "metadata": {
    "editable": true,
    "slideshow": {
     "slide_type": ""
    },
    "tags": []
   },
   "source": [
    "### Train a Random Forest Regressor"
   ]
  },
  {
   "cell_type": "code",
   "execution_count": null,
   "id": "75a53f4e-6581-487f-82e6-ada0d010222a",
   "metadata": {
    "editable": true,
    "slideshow": {
     "slide_type": ""
    },
    "tags": []
   },
   "outputs": [],
   "source": [
    "# Train a random forest regressor model to predict load of 2014-12-12.\n",
    "# Use the period 2013-11-01 to 2014-12-11 for training.\n",
    "# Do not use the dummies computed above. Use the following features instead:\n",
    "# ['hour', 'load_lag_24', 'load_lag_48', 'load_lag_72', 'temp',\n",
    "#    'dwpt', 'rhum', 'wdir', 'wspd', 'weekday']\n",
    "# where hour and weekday are int"
   ]
  },
  {
   "cell_type": "code",
   "execution_count": null,
   "id": "377cfca3-589c-497c-b790-cd60864b07c4",
   "metadata": {
    "editable": true,
    "slideshow": {
     "slide_type": ""
    },
    "tags": []
   },
   "outputs": [],
   "source": [
    "# What is the root mean squared error for the test set? Does the accuracy improve with respect to the linear model?"
   ]
  },
  {
   "cell_type": "markdown",
   "id": "516e7cdc-cd22-47d1-9174-3b94b95df6f1",
   "metadata": {
    "editable": true,
    "slideshow": {
     "slide_type": ""
    },
    "tags": []
   },
   "source": [
    "### Explain a RF model with SHAP"
   ]
  },
  {
   "cell_type": "code",
   "execution_count": null,
   "id": "385bf453-b751-459c-8a3c-8021669dadb8",
   "metadata": {
    "editable": true,
    "slideshow": {
     "slide_type": ""
    },
    "tags": []
   },
   "outputs": [],
   "source": [
    "# What is the expected energy consumption knowing the weekday?\n",
    "# What is the weekday with the highest/lowest expected consumption?\n",
    "# \n",
    "# Hint: use shap.partial_dependence_plot"
   ]
  },
  {
   "cell_type": "code",
   "execution_count": null,
   "id": "5680b4e0-d235-4c6d-9802-7389fa54c267",
   "metadata": {
    "editable": true,
    "slideshow": {
     "slide_type": ""
    },
    "tags": []
   },
   "outputs": [],
   "source": [
    "# Compare with the mean load of the train set grouped by weekday: are they different? If so, why?"
   ]
  },
  {
   "cell_type": "code",
   "execution_count": null,
   "id": "1cd20562-a765-43f7-ab8b-fab157fd73a8",
   "metadata": {
    "editable": true,
    "slideshow": {
     "slide_type": ""
    },
    "tags": []
   },
   "outputs": [],
   "source": [
    "# What is the expected energy consumption knowing the hour? What about temperature? Does the model behavior make sense?"
   ]
  },
  {
   "cell_type": "code",
   "execution_count": null,
   "id": "b5069a14-1e46-4cda-8246-38cbca71282a",
   "metadata": {
    "editable": true,
    "slideshow": {
     "slide_type": ""
    },
    "tags": []
   },
   "outputs": [],
   "source": [
    "# Plot the SHAP values of each feature for each of the test samples.\n",
    "# Hint: use shap.plots.beeswarm"
   ]
  },
  {
   "cell_type": "code",
   "execution_count": null,
   "id": "f08558aa-744a-4ea1-b0b9-bf2f01546252",
   "metadata": {
    "editable": true,
    "slideshow": {
     "slide_type": ""
    },
    "tags": []
   },
   "outputs": [],
   "source": [
    "# What is the most predictive feature? What is the least predictive? How do you interpret it?\n",
    "# Hint: use shap.plots.bar"
   ]
  },
  {
   "cell_type": "code",
   "execution_count": null,
   "id": "7df62fad-3079-4efb-a05d-5cb1fb53ad30",
   "metadata": {
    "editable": true,
    "slideshow": {
     "slide_type": ""
    },
    "tags": []
   },
   "outputs": [],
   "source": [
    "# Explain the 15:00 and 20:00 prediction of the test. What observations can you make? \n",
    "# Hint: use shap.plots.waterfall"
   ]
  },
  {
   "cell_type": "markdown",
   "id": "ee3d9d65-e37d-48c1-820d-22d0f19b8682",
   "metadata": {
    "editable": true,
    "slideshow": {
     "slide_type": ""
    },
    "tags": []
   },
   "source": [
    "### Reflections"
   ]
  },
  {
   "cell_type": "code",
   "execution_count": null,
   "id": "abd5f6ef7574d57d",
   "metadata": {
    "editable": true,
    "jupyter": {
     "outputs_hidden": false
    },
    "slideshow": {
     "slide_type": ""
    },
    "tags": []
   },
   "outputs": [],
   "source": [
    "# Reflect on how the information above could be useful for environmental reasons."
   ]
  }
 ],
 "metadata": {
  "kernelspec": {
   "display_name": "Python 3 (ipykernel)",
   "language": "python",
   "name": "python3"
  },
  "language_info": {
   "codemirror_mode": {
    "name": "ipython",
    "version": 3
   },
   "file_extension": ".py",
   "mimetype": "text/x-python",
   "name": "python",
   "nbconvert_exporter": "python",
   "pygments_lexer": "ipython3",
   "version": "3.10.13"
  }
 },
 "nbformat": 4,
 "nbformat_minor": 5
}
